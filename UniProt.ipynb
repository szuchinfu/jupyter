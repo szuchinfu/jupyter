{
 "cells": [
  {
   "cell_type": "code",
   "execution_count": 1,
   "metadata": {
    "collapsed": false
   },
   "outputs": [
    {
     "name": "stdout",
     "output_type": "stream",
     "text": [
      "Populating the interactive namespace from numpy and matplotlib\n"
     ]
    }
   ],
   "source": [
    "from bioservices import *\n",
    "%pylab inline --no-import-all"
   ]
  },
  {
   "cell_type": "code",
   "execution_count": 2,
   "metadata": {
    "collapsed": false
   },
   "outputs": [],
   "source": [
    "u = UniProt()"
   ]
  },
  {
   "cell_type": "code",
   "execution_count": 13,
   "metadata": {
    "collapsed": false
   },
   "outputs": [
    {
     "name": "stdout",
     "output_type": "stream",
     "text": [
      "Entry\tEntry name\tStatus\tProtein names\tGene names\tOrganism\tLength\n",
      "Q6DD18\tQ6DD18_XENLA\tunreviewed\tNars-prov protein\tnars nars-prov\tXenopus laevis (African clawed frog)\t559\n",
      "\n"
     ]
    }
   ],
   "source": [
    "res = u.search(\"Q6DD18_XENLA\")\n",
    "print(res)\n"
   ]
  },
  {
   "cell_type": "code",
   "execution_count": 3,
   "metadata": {
    "collapsed": false
   },
   "outputs": [
    {
     "name": "stdout",
     "output_type": "stream",
     "text": [
      "Entry name\tLength\tGene names\n",
      "ZAP70_HUMAN\t619\tZAP70 SRK\n",
      "EGFR_HUMAN\t1210\tEGFR ERBB ERBB1 HER1\n",
      "LCK_HUMAN\t509\tLCK\n",
      "\n"
     ]
    }
   ],
   "source": [
    "print u.search('zap70+AND+organism:9606', frmt='tab', limit=3,\n",
    "               columns=\"entry name, length, genes\")\n"
   ]
  },
  {
   "cell_type": "code",
   "execution_count": 4,
   "metadata": {
    "collapsed": true
   },
   "outputs": [],
   "source": [
    "u.debugLevel = \"INFO\"\n",
    "u.timeout = 10   # some queries are long and requires much more time; default is 1000 seconds"
   ]
  },
  {
   "cell_type": "code",
   "execution_count": 14,
   "metadata": {
    "collapsed": false
   },
   "outputs": [
    {
     "data": {
      "text/html": [
       "<div>\n",
       "<table border=\"1\" class=\"dataframe\">\n",
       "  <thead>\n",
       "    <tr style=\"text-align: right;\">\n",
       "      <th></th>\n",
       "      <th>Entry</th>\n",
       "      <th>Entry name</th>\n",
       "      <th>Gene names</th>\n",
       "      <th>Gene names  (primary )</th>\n",
       "      <th>Gene names  (synonym )</th>\n",
       "      <th>Gene names  (ordered locus )</th>\n",
       "      <th>Gene names  (ORF )</th>\n",
       "      <th>Organism</th>\n",
       "      <th>Organism ID</th>\n",
       "      <th>Protein names</th>\n",
       "      <th>...</th>\n",
       "      <th>Miscellaneous [CC]</th>\n",
       "      <th>Keywords</th>\n",
       "      <th>Protein existence</th>\n",
       "      <th>Status</th>\n",
       "      <th>Sequence annotation (Features)</th>\n",
       "      <th>Protein families</th>\n",
       "      <th>Version</th>\n",
       "      <th>Comments</th>\n",
       "      <th>Cross-reference</th>\n",
       "      <th>Pathway.1</th>\n",
       "    </tr>\n",
       "  </thead>\n",
       "  <tbody>\n",
       "    <tr>\n",
       "      <th>0</th>\n",
       "      <td>Q8TD08</td>\n",
       "      <td>MK15_HUMAN</td>\n",
       "      <td>[MAPK15 ERK7 ERK8]</td>\n",
       "      <td>MAPK15</td>\n",
       "      <td>ERK7 ERK8</td>\n",
       "      <td>NaN</td>\n",
       "      <td>NaN</td>\n",
       "      <td>Homo sapiens (Human)</td>\n",
       "      <td>9606</td>\n",
       "      <td>Mitogen-activated protein kinase 15 (MAP kinas...</td>\n",
       "      <td>...</td>\n",
       "      <td>NaN</td>\n",
       "      <td>[ATP-binding, Alternative splicing, Complete p...</td>\n",
       "      <td>Evidence at protein level</td>\n",
       "      <td>reviewed</td>\n",
       "      <td>NaN</td>\n",
       "      <td>[Protein kinase superfamily, CMGC Ser/Thr prot...</td>\n",
       "      <td>126</td>\n",
       "      <td>[Alternative products (1), Catalytic activity ...</td>\n",
       "      <td>NaN</td>\n",
       "      <td>NaN</td>\n",
       "    </tr>\n",
       "    <tr>\n",
       "      <th>1</th>\n",
       "      <td>Q6DD18</td>\n",
       "      <td>Q6DD18_XENLA</td>\n",
       "      <td>[nars nars-prov]</td>\n",
       "      <td>nars</td>\n",
       "      <td>nars-prov</td>\n",
       "      <td>NaN</td>\n",
       "      <td>NaN</td>\n",
       "      <td>Xenopus laevis (African clawed frog)</td>\n",
       "      <td>8355</td>\n",
       "      <td>Nars-prov protein</td>\n",
       "      <td>...</td>\n",
       "      <td>NaN</td>\n",
       "      <td>[ATP-binding, Aminoacyl-tRNA synthetase, Coile...</td>\n",
       "      <td>Evidence at transcript level</td>\n",
       "      <td>unreviewed</td>\n",
       "      <td>NaN</td>\n",
       "      <td>[Class-II aminoacyl-tRNA synthetase family]</td>\n",
       "      <td>78</td>\n",
       "      <td>[Sequence similarities (1)]</td>\n",
       "      <td>NaN</td>\n",
       "      <td>NaN</td>\n",
       "    </tr>\n",
       "    <tr>\n",
       "      <th>2</th>\n",
       "      <td>P10144</td>\n",
       "      <td>GRAB_HUMAN</td>\n",
       "      <td>[GZMB CGL1 CSPB CTLA1 GRB]</td>\n",
       "      <td>GZMB</td>\n",
       "      <td>CGL1 CSPB CTLA1 GRB</td>\n",
       "      <td>NaN</td>\n",
       "      <td>NaN</td>\n",
       "      <td>Homo sapiens (Human)</td>\n",
       "      <td>9606</td>\n",
       "      <td>Granzyme B (EC 3.4.21.79) (C11) (CTLA-1) (Cath...</td>\n",
       "      <td>...</td>\n",
       "      <td>NaN</td>\n",
       "      <td>[3D-structure, Apoptosis, Complete proteome, C...</td>\n",
       "      <td>Evidence at protein level</td>\n",
       "      <td>reviewed</td>\n",
       "      <td>NaN</td>\n",
       "      <td>[Peptidase S1 family, Granzyme subfamily]</td>\n",
       "      <td>181</td>\n",
       "      <td>[Catalytic activity (1), Enzyme regulation (1)...</td>\n",
       "      <td>NaN</td>\n",
       "      <td>NaN</td>\n",
       "    </tr>\n",
       "    <tr>\n",
       "      <th>3</th>\n",
       "      <td>P05412</td>\n",
       "      <td>JUN_HUMAN</td>\n",
       "      <td>[JUN]</td>\n",
       "      <td>JUN</td>\n",
       "      <td>NaN</td>\n",
       "      <td>NaN</td>\n",
       "      <td>NaN</td>\n",
       "      <td>Homo sapiens (Human)</td>\n",
       "      <td>9606</td>\n",
       "      <td>Transcription factor AP-1 (Activator protein 1...</td>\n",
       "      <td>...</td>\n",
       "      <td>NaN</td>\n",
       "      <td>[3D-structure, Acetylation, Activator, Complet...</td>\n",
       "      <td>Evidence at protein level</td>\n",
       "      <td>reviewed</td>\n",
       "      <td>NaN</td>\n",
       "      <td>[BZIP family, Jun subfamily]</td>\n",
       "      <td>211</td>\n",
       "      <td>[Function (1), Post-translational modification...</td>\n",
       "      <td>NaN</td>\n",
       "      <td>NaN</td>\n",
       "    </tr>\n",
       "  </tbody>\n",
       "</table>\n",
       "<p>4 rows × 99 columns</p>\n",
       "</div>"
      ],
      "text/plain": [
       "    Entry    Entry name                  Gene names Gene names  (primary )  \\\n",
       "0  Q8TD08    MK15_HUMAN          [MAPK15 ERK7 ERK8]                 MAPK15   \n",
       "1  Q6DD18  Q6DD18_XENLA            [nars nars-prov]                   nars   \n",
       "2  P10144    GRAB_HUMAN  [GZMB CGL1 CSPB CTLA1 GRB]                   GZMB   \n",
       "3  P05412     JUN_HUMAN                       [JUN]                    JUN   \n",
       "\n",
       "  Gene names  (synonym )  Gene names  (ordered locus )  Gene names  (ORF )  \\\n",
       "0              ERK7 ERK8                           NaN                 NaN   \n",
       "1              nars-prov                           NaN                 NaN   \n",
       "2    CGL1 CSPB CTLA1 GRB                           NaN                 NaN   \n",
       "3                    NaN                           NaN                 NaN   \n",
       "\n",
       "                               Organism  Organism ID  \\\n",
       "0                  Homo sapiens (Human)         9606   \n",
       "1  Xenopus laevis (African clawed frog)         8355   \n",
       "2                  Homo sapiens (Human)         9606   \n",
       "3                  Homo sapiens (Human)         9606   \n",
       "\n",
       "                                       Protein names    ...      \\\n",
       "0  Mitogen-activated protein kinase 15 (MAP kinas...    ...       \n",
       "1                                  Nars-prov protein    ...       \n",
       "2  Granzyme B (EC 3.4.21.79) (C11) (CTLA-1) (Cath...    ...       \n",
       "3  Transcription factor AP-1 (Activator protein 1...    ...       \n",
       "\n",
       "  Miscellaneous [CC]                                           Keywords  \\\n",
       "0                NaN  [ATP-binding, Alternative splicing, Complete p...   \n",
       "1                NaN  [ATP-binding, Aminoacyl-tRNA synthetase, Coile...   \n",
       "2                NaN  [3D-structure, Apoptosis, Complete proteome, C...   \n",
       "3                NaN  [3D-structure, Acetylation, Activator, Complet...   \n",
       "\n",
       "              Protein existence      Status Sequence annotation (Features)  \\\n",
       "0     Evidence at protein level    reviewed                            NaN   \n",
       "1  Evidence at transcript level  unreviewed                            NaN   \n",
       "2     Evidence at protein level    reviewed                            NaN   \n",
       "3     Evidence at protein level    reviewed                            NaN   \n",
       "\n",
       "                                    Protein families Version  \\\n",
       "0  [Protein kinase superfamily, CMGC Ser/Thr prot...     126   \n",
       "1        [Class-II aminoacyl-tRNA synthetase family]      78   \n",
       "2          [Peptidase S1 family, Granzyme subfamily]     181   \n",
       "3                       [BZIP family, Jun subfamily]     211   \n",
       "\n",
       "                                            Comments Cross-reference  \\\n",
       "0  [Alternative products (1), Catalytic activity ...             NaN   \n",
       "1                        [Sequence similarities (1)]             NaN   \n",
       "2  [Catalytic activity (1), Enzyme regulation (1)...             NaN   \n",
       "3  [Function (1), Post-translational modification...             NaN   \n",
       "\n",
       "   Pathway.1  \n",
       "0        NaN  \n",
       "1        NaN  \n",
       "2        NaN  \n",
       "3        NaN  \n",
       "\n",
       "[4 rows x 99 columns]"
      ]
     },
     "execution_count": 14,
     "metadata": {},
     "output_type": "execute_result"
    }
   ],
   "source": [
    "df = u.get_df([\"ZAP70_HUMAN\", \"GRAB_HUMAN\", \"JUN_HUMAN\", \"MK15_HUMAN\"])\n",
    "df"
   ]
  },
  {
   "cell_type": "code",
   "execution_count": 7,
   "metadata": {
    "collapsed": false
   },
   "outputs": [
    {
     "data": {
      "text/plain": [
       "<matplotlib.axes._subplots.AxesSubplot at 0xb1f3b76c>"
      ]
     },
     "execution_count": 7,
     "metadata": {},
     "output_type": "execute_result"
    },
    {
     "data": {
      "image/png": "[encoded data removed]",
      "text/plain": [
       "<matplotlib.figure.Figure at 0xb075cbac>"
      ]
     },
     "metadata": {},
     "output_type": "display_data"
    }
   ],
   "source": [
    "df['Length'].hist()"
   ]
  },
  {
   "cell_type": "code",
   "execution_count": 15,
   "metadata": {
    "collapsed": false
   },
   "outputs": [],
   "source": [
    "sequence = u.retrieve(\"P43403\", \"fasta\")"
   ]
  },
  {
   "cell_type": "code",
   "execution_count": 16,
   "metadata": {
    "collapsed": false
   },
   "outputs": [
    {
     "name": "stdout",
     "output_type": "stream",
     "text": [
      ">tr|Q6DD18|Q6DD18_XENLA Nars-prov protein OS=Xenopus laevis GN=nars PE=2 SV=1\n",
      "MEEEINDITARLKLEEMYISDREGNDSTGDGTKEKPFKTILKAMLVAGKEPFPTFYVDSQ\n",
      "KENERWDVISKSQVKNNRKLWVREQMKNEAKEKKEAEDNLRREKNLEDAKKIIISNDPSL\n",
      "PAPVTLKIRELEAYRGQRVKVFGWVHRLRRQGKNLMFIVLRDGTGYLQCVLSDQLCQCYN\n",
      "GLVLSTESTVAVYGTLNLVPDGKQAPGGHELACDYWELVGLAPAGGADNLLNEESDVDVQ\n",
      "LNNRHMMIRGENMSKIFKVRSTVIHCFRNHFFDRGYYEVTPPTLVQTQVEGGSTLFKLDY\n",
      "FGEEAYLTQSSQLYLETCIPALGDSFCIAQSYRAEQSRTRRHLAEYTHIEAECPFMTFEN\n",
      "LLERLEDLVCDVVDRVLKSPVASLLYDLHPEFKPPKRPFRRMNYSEAITWLKEHDVKKDD\n",
      "GTYYEFGEDIPEAPERLMTDAINEPILLCRFPAEIKSFYMQRCAEDKRLTESVDVLMPNV\n",
      "GEIVGGSMRIWDSEELLEGYKREEIDPTPYYWYTDQRKYGTCPHGGYGLGLERFLTWILN\n",
      "RHHIRDVCLYPRFVQRCKP\n",
      "\n"
     ]
    }
   ],
   "source": [
    "print(sequence)"
   ]
  },
  {
   "cell_type": "code",
   "execution_count": 10,
   "metadata": {
    "collapsed": false
   },
   "outputs": [
    {
     "name": "stdout",
     "output_type": "stream",
     "text": [
      "Will be moved to BioKit github.com/biokit\n"
     ]
    },
    {
     "data": {
      "text/plain": [
       "u'MPDPAAHLPFFYGSISRAEAEEHLKLAGMADGLFLLRQCLRSLGGYVLSLVHDVRFHHFPIERQLNGTYAIAGGKAHCGPAELCEFYSRDPDGLPCNLRKPCNRPSGLEPQPGVFDCLRDAMVRDYVRQTWKLEGEALEQAIISQAPQVEKLIATTAHERMPWYHSSLTREEAERKLYSGAQTDGKFLLRPRKEQGTYALSLIYGKTVYHYLISQDKAGKYCIPEGTKFDTLWQLVEYLKLKADGLIYCLKEACPNSSASNASGAAAPTLPAHPSTLTHPQRRIDTLNSDGYTPEPARITSPDKPRPMPMDTSVYESPYSDPEELKDKKLFLKRDNLLIADIELGCGNFGSVRQGVYRMRKKQIDVAIKVLKQGTEKADTEEMMREAQIMHQLDNPYIVRLIGVCQAEALMLVMEMAGGGPLHKFLVGKREEIPVSNVAELLHQVSMGMKYLEEKNFVHRDLAARNVLLVNRHYAKISDFGLSKALGADDSYYTARSAGKWPLKWYAPECINFRKFSSRSDVWSYGVTMWEALSYGQKPYKKMKGPEVMAFIEQGKRMECPPECPPELYALMSDCWIYKWEDRPDFLTVEQRMRACYYSLASKVEGPPGSTQKAEAACA'"
      ]
     },
     "execution_count": 10,
     "metadata": {},
     "output_type": "execute_result"
    }
   ],
   "source": [
    "u.get_fasta_sequence(\"P43403\")"
   ]
  },
  {
   "cell_type": "code",
   "execution_count": 11,
   "metadata": {
    "collapsed": false
   },
   "outputs": [
    {
     "data": {
      "text/plain": [
       "defaultdict(list, {u'P43403': [u'hsa:7535']})"
      ]
     },
     "execution_count": 11,
     "metadata": {},
     "output_type": "execute_result"
    }
   ],
   "source": [
    "u.mapping(\"ACC\", \"KEGG_ID\", 'P43403')"
   ]
  },
  {
   "cell_type": "code",
   "execution_count": 12,
   "metadata": {
    "collapsed": false
   },
   "outputs": [
    {
     "data": {
      "text/plain": [
       "defaultdict(list,\n",
       "            {u'P43403': [u'1FBV',\n",
       "              u'1M61',\n",
       "              u'1U59',\n",
       "              u'2CBL',\n",
       "              u'2OQ1',\n",
       "              u'2OZO',\n",
       "              u'2Y1N',\n",
       "              u'3ZNI',\n",
       "              u'4A4B',\n",
       "              u'4A4C',\n",
       "              u'4K2R',\n",
       "              u'4XZ0',\n",
       "              u'4XZ1']})"
      ]
     },
     "execution_count": 12,
     "metadata": {},
     "output_type": "execute_result"
    }
   ],
   "source": [
    "u.mapping(\"ID\", \"PDB_ID\", \"P43403\")"
   ]
  },
  {
   "cell_type": "code",
   "execution_count": null,
   "metadata": {
    "collapsed": true
   },
   "outputs": [],
   "source": []
  }
 ],
 "metadata": {
  "kernelspec": {
   "display_name": "Python 2",
   "language": "python",
   "name": "python2"
  },
  "language_info": {
   "codemirror_mode": {
    "name": "ipython",
    "version": 2
   },
   "file_extension": ".py",
   "mimetype": "text/x-python",
   "name": "python",
   "nbconvert_exporter": "python",
   "pygments_lexer": "ipython2",
   "version": "2.7.12"
  }
 },
 "nbformat": 4,
 "nbformat_minor": 0
}
